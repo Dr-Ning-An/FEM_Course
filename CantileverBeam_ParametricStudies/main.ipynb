{
 "cells": [
  {
   "cell_type": "code",
   "execution_count": null,
   "id": "6fef03bf",
   "metadata": {},
   "outputs": [
    {
     "name": "stdout",
     "output_type": "stream",
     "text": [
      "E:\\Learn_ABAQUS_From_Examples\\FEM_Examples\\CantileverBeam_ParametricStudies\\ParametricStudies\\FEModelFiles\\CantileverBeam_q_0.1is running!!\n",
      "E:\\Learn_ABAQUS_From_Examples\\FEM_Examples\\CantileverBeam_ParametricStudies\\ParametricStudies\\FEModelFiles\\CantileverBeam_q_0.2is running!!\n",
      "E:\\Learn_ABAQUS_From_Examples\\FEM_Examples\\CantileverBeam_ParametricStudies\\ParametricStudies\\FEModelFiles\\CantileverBeam_q_0.3is running!!\n",
      "E:\\Learn_ABAQUS_From_Examples\\FEM_Examples\\CantileverBeam_ParametricStudies\\ParametricStudies\\FEModelFiles\\CantileverBeam_q_0.4is running!!\n",
      "E:\\Learn_ABAQUS_From_Examples\\FEM_Examples\\CantileverBeam_ParametricStudies\\ParametricStudies\\FEModelFiles\\CantileverBeam_q_0.5is running!!\n",
      "E:\\Learn_ABAQUS_From_Examples\\FEM_Examples\\CantileverBeam_ParametricStudies\\ParametricStudies\\FEModelFiles\\CantileverBeam_q_0.6is running!!\n"
     ]
    }
   ],
   "source": [
    "#######################################################################################\n",
    "## Run Parametric Studies in PyCharm\n",
    "#######################################################################################\n",
    "import numpy as np\n",
    "import subprocess\n",
    "from os import path\n",
    "from numpy import floor\n",
    "import os\n",
    "curr_dir = os.getcwd()\n",
    "if not os.path.exists(curr_dir + '\\\\FEModelFiles'):\n",
    "    os.mkdir(curr_dir + '\\\\FEModelFiles')\n",
    "\n",
    "q = np.linspace(0.1, 3.0, 30)\n",
    "L = 200.0;\n",
    "W = 20.0;\n",
    "T = 25.0;\n",
    "jobName ='CantileverBeam'\n",
    "U = np.zeros(len(q))\n",
    "\n",
    "for i in range(len(q)):\n",
    "    DirName = jobName + '_q_' + '%g'%q[i]\n",
    "    if path.exists(curr_dir + '\\\\FEModelFiles\\\\' + DirName) == True:\n",
    "        print(curr_dir + '\\\\FEModelFiles\\\\' + DirName + \"already exists!\")\n",
    "        data = np.genfromtxt(curr_dir + '\\\\FEModelFiles\\\\' + DirName + \"\\\\CantileverBeam.csv\", dtype = float, delimiter=',', skip_header=1)\n",
    "        q[i] = data[0]\n",
    "        U[i] = data[1]\n",
    "    elif path.exists(curr_dir + '\\\\FEModelFiles\\\\' + DirName) == False:\n",
    "        f = open(\"Parameters_for_CantileverBeam.py\", \"w\")\n",
    "        f.write(\"q = \" + \"%g\"%q[i] + '\\n')\n",
    "        f.write(\"L = \" + \"%g\"%L + '\\n')\n",
    "        f.write(\"W = \" + \"%g\"%W + '\\n')\n",
    "        f.write(\"T = \" + \"%g\"%T + '\\n')\n",
    "        f.close()\n",
    "        print(curr_dir + '\\\\FEModelFiles\\\\' + DirName + 'is running!!')\n",
    "        try:\n",
    "            subprocess.call([r'runAba.bat'])\n",
    "            data = np.genfromtxt(curr_dir + '\\\\FEModelFiles\\\\' + DirName + \"\\\\CantileverBeam.csv\", dtype = float, delimiter=',', skip_header=1)\n",
    "            q[i] = data[0]\n",
    "            U[i] = data[1]\n",
    "        except:\n",
    "            print(\"unexpected error!!!!!\")   \n",
    "print(q)\n",
    "print(U)\n",
    "\n",
    "import matplotlib.pyplot as plt\n",
    "plt.plot(-U, q, 'bo')\n",
    "plt.title(\"Displacement of free end under pressure\")\n",
    "plt.xlabel(\"Displacement, U [mm]\")\n",
    "plt.ylabel(\"Pressure, q [MPa]\")\n",
    "plt.show()\n"
   ]
  },
  {
   "cell_type": "code",
   "execution_count": null,
   "id": "459b1b69",
   "metadata": {},
   "outputs": [],
   "source": []
  }
 ],
 "metadata": {
  "kernelspec": {
   "display_name": "Python 3 (ipykernel)",
   "language": "python",
   "name": "python3"
  },
  "language_info": {
   "codemirror_mode": {
    "name": "ipython",
    "version": 3
   },
   "file_extension": ".py",
   "mimetype": "text/x-python",
   "name": "python",
   "nbconvert_exporter": "python",
   "pygments_lexer": "ipython3",
   "version": "3.9.12"
  }
 },
 "nbformat": 4,
 "nbformat_minor": 5
}
