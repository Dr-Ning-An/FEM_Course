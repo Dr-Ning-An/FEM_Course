{
  "cells": [
    {
      "cell_type": "markdown",
      "metadata": {
        "id": "view-in-github",
        "colab_type": "text"
      },
      "source": [
        "<a href=\"https://colab.research.google.com/github/Dr-Ning-An/FEM_Course/blob/main/POD_Example/SVD_POD_reduction.ipynb\" target=\"_parent\"><img src=\"https://colab.research.google.com/assets/colab-badge.svg\" alt=\"Open In Colab\"/></a>"
      ]
    },
    {
      "cell_type": "code",
      "execution_count": 1,
      "id": "75902fa1",
      "metadata": {
        "colab": {
          "base_uri": "https://localhost:8080/"
        },
        "id": "75902fa1",
        "outputId": "ee1df7e2-3c23-463c-bdae-e0a4ee3b24e0"
      },
      "outputs": [
        {
          "output_type": "stream",
          "name": "stdout",
          "text": [
            "Original Data Matrix:\n",
            " [[1. 5. 3. 3.]\n",
            " [1. 4. 4. 3.]\n",
            " [1. 5. 5. 4.]]\n"
          ]
        }
      ],
      "source": [
        "import numpy as np\n",
        "from scipy.linalg import svd\n",
        "\n",
        "# Define input data matrix X\n",
        "X = np.array([\n",
        "    [1, 5, 3, 3],\n",
        "    [1, 4, 4, 3],\n",
        "    [1, 5, 5, 4]\n",
        "], dtype=float)\n",
        "\n",
        "# Display the original data matrix\n",
        "print(\"Original Data Matrix:\\n\", X)"
      ]
    },
    {
      "cell_type": "code",
      "source": [
        "# Perform Singular Value Decomposition (SVD) on the data matrix\n",
        "U, S, VT = svd(X)\n",
        "\n",
        "# Calculate the POD basis (U matrix from SVD)\n",
        "pod_basis = U\n",
        "print(\"\\nPOD Basis / Left Singular Vectors:\\n\", pod_basis)\n",
        "\n",
        "print(\"\\nSingular Values:\\n\",S)\n",
        "\n",
        "print(\"\\nTranspose of Right Singular Vectors:\\n\",VT)"
      ],
      "metadata": {
        "colab": {
          "base_uri": "https://localhost:8080/"
        },
        "id": "5m9Lm5BwQFuT",
        "outputId": "1e6f11b6-4c85-4619-c10a-9eaee4f281f3"
      },
      "id": "5m9Lm5BwQFuT",
      "execution_count": 2,
      "outputs": [
        {
          "output_type": "stream",
          "name": "stdout",
          "text": [
            "\n",
            "POD Basis / Left Singular Vectors:\n",
            " [[ 0.53248416  0.84624208  0.01830206]\n",
            " [ 0.52545445 -0.31352754 -0.7909476 ]\n",
            " [ 0.66359494 -0.43078397  0.61161011]]\n",
            "\n",
            "Singular Values:\n",
            " [12.30834838  1.20802645  0.21267859]\n",
            "\n",
            "Transpose of Right Singular Vectors:\n",
            " [[ 0.13986714  0.65664483  0.57012076  0.47351565]\n",
            " [ 0.08437777  0.68142582 -0.71960655 -0.10346813]\n",
            " [-0.75717737 -0.06690608 -0.23901616  0.60421625]\n",
            " [ 0.63245553 -0.31622777 -0.31622777  0.63245553]]\n"
          ]
        }
      ]
    },
    {
      "cell_type": "code",
      "source": [
        "# Calculate energy content of each singular value\n",
        "energy_content = (S**2) / np.sum(S**2)\n",
        "\n",
        "# Calculate the cumulative energy content\n",
        "cumulative_energy = np.cumsum(energy_content)\n",
        "\n",
        "# Determine the number of POD basis vectors needed to achieve the desired error\n",
        "desired_error = 0.001\n",
        "num_basis_vectors = np.sum(cumulative_energy < (1 - desired_error)) + 1\n",
        "\n",
        "# Truncate the POD basis\n",
        "truncated_pod_basis = U[:, :num_basis_vectors]\n",
        "print(f\"\\nTruncated POD Basis (using {num_basis_vectors} vectors):\\n\", truncated_pod_basis)"
      ],
      "metadata": {
        "colab": {
          "base_uri": "https://localhost:8080/"
        },
        "id": "X-lfYxo3QHkd",
        "outputId": "59f0148d-0f65-415c-b583-af66051f0e9d"
      },
      "id": "X-lfYxo3QHkd",
      "execution_count": 3,
      "outputs": [
        {
          "output_type": "stream",
          "name": "stdout",
          "text": [
            "\n",
            "Truncated POD Basis (using 2 vectors):\n",
            " [[ 0.53248416  0.84624208]\n",
            " [ 0.52545445 -0.31352754]\n",
            " [ 0.66359494 -0.43078397]]\n"
          ]
        }
      ]
    },
    {
      "cell_type": "code",
      "source": [
        "# Calculate the reduced matrix using the truncated POD basis\n",
        "reduced_matrix = truncated_pod_basis.T @ X\n",
        "print(\"\\nReduced Matrix:\\n\", reduced_matrix)\n",
        "\n",
        "# Reconstruct the original matrix from the reduced matrix\n",
        "reconstructed_matrix = truncated_pod_basis @ reduced_matrix\n",
        "print(\"\\nReconstructed Matrix:\\n\", reconstructed_matrix)\n",
        "\n",
        "# Calculate the reconstruction error\n",
        "error = np.linalg.norm(X - reconstructed_matrix)\n",
        "print(f\"\\nReconstruction Error: {error}\")"
      ],
      "metadata": {
        "colab": {
          "base_uri": "https://localhost:8080/"
        },
        "id": "d1-juSouQJ-u",
        "outputId": "3ebe4275-f4ab-4f20-cfeb-2a2fa5aa70e7"
      },
      "id": "d1-juSouQJ-u",
      "execution_count": 4,
      "outputs": [
        {
          "output_type": "stream",
          "name": "stdout",
          "text": [
            "\n",
            "Reduced Matrix:\n",
            " [[ 1.72153355  8.08221328  7.01724497  5.82819558]\n",
            " [ 0.10193057  0.82318041 -0.86930375 -0.12499224]]\n",
            "\n",
            "Reconstructed Matrix:\n",
            " [[1.00294728 5.00026043 3.00093036 2.99764811]\n",
            " [0.87262942 3.98874522 3.95979327 3.10163982]\n",
            " [1.09849089 5.0087029  5.03109036 3.92140574]]\n",
            "\n",
            "Reconstruction Error: 0.2126785923857775\n"
          ]
        }
      ]
    }
  ],
  "metadata": {
    "colab": {
      "provenance": [],
      "include_colab_link": true
    },
    "language_info": {
      "name": "python"
    },
    "kernelspec": {
      "name": "python3",
      "display_name": "Python 3"
    }
  },
  "nbformat": 4,
  "nbformat_minor": 5
}